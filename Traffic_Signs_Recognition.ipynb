{
 "cells": [
  {
   "cell_type": "markdown",
   "metadata": {},
   "source": [
    "# Self-Driving Car Engineer Nanodegree\n",
    "\n",
    "## Deep Learning\n",
    "\n",
    "## Project: Build a Traffic Sign Recognition Classifier\n",
    "\n",
    "In this notebook, a template is provided for you to implement your functionality in stages which is required to successfully complete this project. If additional code is required that cannot be included in the notebook, be sure that the Python code is successfully imported and included in your submission, if necessary. Sections that begin with **'Implementation'** in the header indicate where you should begin your implementation for your project. Note that some sections of implementation are optional, and will be marked with **'Optional'** in the header.\n",
    "\n",
    "In addition to implementing code, there will be questions that you must answer which relate to the project and your implementation. Each section where you will answer a question is preceded by a **'Question'** header. Carefully read each question and provide thorough answers in the following text boxes that begin with **'Answer:'**. Your project submission will be evaluated based on your answers to each of the questions and the implementation you provide.\n",
    "\n",
    ">**Note:** Code and Markdown cells can be executed using the **Shift + Enter** keyboard shortcut. In addition, Markdown cells can be edited by typically double-clicking the cell to enter edit mode."
   ]
  },
  {
   "cell_type": "markdown",
   "metadata": {},
   "source": [
    "---\n",
    "\n",
    "## Step 1: Dataset Exploration\n",
    "\n",
    "Visualize the German Traffic Signs Dataset. This is open ended, some suggestions include: plotting traffic signs images, plotting the count of each sign, etc. Be creative!\n",
    "\n",
    "\n",
    "The pickled data is a dictionary with 4 key/value pairs:\n",
    "\n",
    "- features -> the images pixel values, (width, height, channels)\n",
    "- labels -> the label of the traffic sign\n",
    "- sizes -> the original width and height of the image, (width, height)\n",
    "- coords -> coordinates of a bounding box around the sign in the image, (x1, y1, x2, y2). Based the original image (not the resized version)."
   ]
  },
  {
   "cell_type": "code",
   "execution_count": 1,
   "metadata": {
    "collapsed": false
   },
   "outputs": [
    {
     "name": "stdout",
     "output_type": "stream",
     "text": [
      "All imports successful\n"
     ]
    }
   ],
   "source": [
    "#!!get_ipython().magic('matplotlib inline')\n",
    "import matplotlib\n",
    "%matplotlib inline\n",
    "\n",
    "import os\n",
    "import time\n",
    "import cv2\n",
    "import numpy as np\n",
    "from numpy import float32\n",
    "import tensorflow as tf\n",
    "import matplotlib.pyplot as plt\n",
    "from datetime import timedelta\n",
    "from collections import namedtuple\n",
    "from tensorflow.contrib.learn.python.learn.datasets.mnist import dense_to_one_hot\n",
    "\n",
    "print (\"All imports successful\")\n"
   ]
  },
  {
   "cell_type": "code",
   "execution_count": 2,
   "metadata": {
    "collapsed": false
   },
   "outputs": [],
   "source": [
    "# Some image manipulation routines\n",
    "# Needed for subsequent processing\n",
    "\n",
    "# Crops an image based on the coordinates obtained from the input data\n",
    "# Cropping of data is not useful in this project. But I am keeping it here,\n",
    "# in case it is needed in the future.\n",
    "def crop(image, coords, size):\n",
    "    # Original dimensions of the image\n",
    "    org_x = size[0]\n",
    "    org_y = size[1]\n",
    "    \n",
    "    # Scaling : Image has been scaled from its original size down to the processing size (32)\n",
    "    sz_x = len(image)\n",
    "    sz_y = len(image[0])\n",
    "    \n",
    "    # Ratio : Of actual/original (this is to scale the rectangular coordinates around image)\n",
    "    rat_x = float(sz_x / org_x)\n",
    "    rat_y = float(sz_y / org_y)\n",
    "    \n",
    "    # Rectangle: Scale the rectangular box based on the scaling above\n",
    "    x1 = rat_x * coords[0]\n",
    "    x2 = rat_x * coords[2]\n",
    "    y1 = rat_y * coords[1]\n",
    "    y2 = rat_y * coords[3]\n",
    "\n",
    "    cropped = image[x1:x2, y1:y2]\n",
    "\n",
    "    return cropped\n",
    "\n",
    "def transform_image(image, ang_range, shear_range, trans_range):\n",
    "    '''\n",
    "    This function transforms input_images to generate new input_images.\n",
    "    The function takes in following arguments,\n",
    "    1- Image\n",
    "    2- ang_range: Range of angles for rotation\n",
    "    3- shear_range: Range of values to apply affine transform to\n",
    "    4- trans_range: Range of values to apply translations over. \n",
    "    \n",
    "    A Random uniform distribution is used to generate different parameters for transformation\n",
    "    \n",
    "    '''\n",
    "    # Rotation\n",
    "\n",
    "    ang_rot = np.random.uniform(ang_range)-ang_range/2\n",
    "    rows,cols,ch = image.shape    \n",
    "    Rot_M = cv2.getRotationMatrix2D((cols/2,rows/2),ang_rot,1)\n",
    "\n",
    "    # Translation\n",
    "    tr_x = trans_range*np.random.uniform()-trans_range/2\n",
    "    tr_y = trans_range*np.random.uniform()-trans_range/2\n",
    "    Trans_M = np.float32([[1,0,tr_x],[0,1,tr_y]])\n",
    "\n",
    "    # Shear\n",
    "    pts1 = np.float32([[5,5],[20,5],[5,20]])\n",
    "\n",
    "    pt1 = 5+shear_range*np.random.uniform()-shear_range/2\n",
    "    pt2 = 20+shear_range*np.random.uniform()-shear_range/2\n",
    "\n",
    "    pts2 = np.float32([[pt1,5],[pt2,pt1],[5,pt2]])\n",
    "\n",
    "    shear_M = cv2.getAffineTransform(pts1,pts2)\n",
    "        \n",
    "    image = cv2.warpAffine(image,Rot_M,(cols,rows))\n",
    "    image = cv2.warpAffine(image,Trans_M,(cols,rows))\n",
    "    image = cv2.warpAffine(image,shear_M,(cols,rows))\n",
    "    \n",
    "    return image\n",
    "\n",
    "# Placeholder, in case more image transformations are needed in the future\n",
    "def sharpen_blur(image):\n",
    "    return image\n",
    "\n",
    "# Placeholder, in case more image transformations are needed in the future\n",
    "def rotate(image):\n",
    "    return image\n",
    "\n",
    "# Placeholder, in case more image transformations are needed in the future\n",
    "def brighten_darken(image):\n",
    "    return image\n",
    "\n",
    "# Placeholder, in case more image transformations are needed in the future\n",
    "def push_away(image, newshape):\n",
    "    return image\n",
    "\n",
    "# Placeholder, in case more image transformations are needed in the future\n",
    "def change_perspective(image):\n",
    "    return image\n",
    "\n",
    "# Placeholder, in case more image transformations are needed in the future\n",
    "def add_noise(image, noise):\n",
    "    return image\n",
    "\n",
    "# Adjusts the image size, however it has been obtained, to adhere to input requirements\n",
    "def resize(image, size):\n",
    "    if size==image.shape[0] and size==image.shape[1]:\n",
    "        return image\n",
    "    \n",
    "    # we need to keep in mind aspect ratio so the image does\n",
    "    # not look skewed or distorted -- therefore, we calculate\n",
    "    # the ratio of the dimensions of the new image to the old image\n",
    "    r_x = size / image.shape[0]\n",
    "    r_y = size / image.shape[1]\n",
    "    dim = (int(image.shape[0] * r_x), int(image.shape[1] * r_y))\n",
    "\n",
    "    # perform the actual resizing of the image and show it\n",
    "    resized = cv2.resize(image, dim, interpolation = cv2.INTER_AREA)\n",
    "    return resized\n"
   ]
  },
  {
   "cell_type": "code",
   "execution_count": 3,
   "metadata": {
    "collapsed": false,
    "scrolled": true
   },
   "outputs": [],
   "source": [
    "# This is the actual data generation routine. It's aim is to equalize the distribution of training samples\n",
    "# so that training is not only more generalized, but also does not skew towards specific classes.\n",
    "# This method also prints out the distribution of examples across the training classes.\n",
    "\n",
    "def equalize_distribution(xs, ys, coords, sizes):\n",
    "    more_images = []\n",
    "    more_labels = []\n",
    "    \n",
    "    (num_images, img_size, _, num_channels) = xs.shape\n",
    "\n",
    "    (unique, counts) = np.unique(ys, return_counts=True)\n",
    "    maxcount = max(counts)\n",
    "    mincount = min(counts)\n",
    "    delta_threshold = 25 # percent\n",
    "    \n",
    "    n_classes = len(unique) # Now we will assume that the uniques are 0..n (strictly increasing and continuous)\n",
    "    # Calculate inverse lookup\n",
    "    inverse = np.empty((n_classes, 0)).tolist()\n",
    "    for i in range(len(xs)):\n",
    "        inverse[ys[i]].append(i)\n",
    "\n",
    "    if (100 - (mincount * 100 / maxcount)) > delta_threshold:\n",
    "        idealcount = maxcount #int(maxcount + .25 * maxcount)\n",
    "        descending = np.argsort(counts)[::-1] # Sort the classes in descending order based on 'counts' array values\n",
    "        for cls in descending:\n",
    "            needed = idealcount - counts[cls]\n",
    "            print (\"Class\\t{}:\\t{} examples \\t[% = {}\\tNeed = {} more]\".format(cls, counts[cls], counts[cls]*100/num_images, needed))\n",
    "            \n",
    "            # Perform a sequence of modifications to generate the 'needed' new data, using\n",
    "            # a uniform distribution for the actual modifications\n",
    "            if (needed > 0):\n",
    "                images = [xs[i] for i in inverse[cls]]  # Get the exact indices of each image for the current class\n",
    "\n",
    "                for idx in range(needed):\n",
    "                    i = idx % len(images)\n",
    "                    image = images[i]\n",
    "                    # Can look at: https://github.com/Hvass-Labs/TensorFlow-Tutorials/blob/master/06_CIFAR-10.ipynb\n",
    "                    #   for ideas for image transformations\n",
    "                    #image = crop(image, coords[i], sizes[i])\n",
    "                    #image = addnoise(image, 5)\n",
    "                    #image = rotate(image)\n",
    "                    #image = sharpen_blur(image)\n",
    "                    #image = push_away(image, (img_size, img_size, num_channels))\n",
    "                    #image = change_perspective(image)\n",
    "                    image = transform_image(image, 20, 10, 5)\n",
    "                    image = resize(image, img_size) # Get image back to required size, in case that changed\n",
    "                    \n",
    "                    more_images.append(image)\n",
    "                    more_labels.append(cls)\n",
    "        \n",
    "    return more_images, more_labels\n"
   ]
  },
  {
   "cell_type": "code",
   "execution_count": 4,
   "metadata": {
    "collapsed": false
   },
   "outputs": [],
   "source": [
    "# Utility function used to plot 9 input_images in a 3x3 grid, and writing the true and \n",
    "# predicted classes below each image.\n",
    "def plot_images(images, actual_labels, label_predictor=None):\n",
    "    assert len(images) == len(actual_labels) == 9\n",
    "    fig, axes = plt.subplots(3, 3)\n",
    "    fig.subplots_adjust(hspace=0.3, wspace=0.3)\n",
    "    for i, ax in enumerate(axes.flat):\n",
    "        ax.imshow(images[i].reshape(img_shape), cmap='binary')\n",
    "        if label_predictor is None:\n",
    "            xlabel = \"True: {0}\".format(actual_labels[i])\n",
    "        else:\n",
    "            xlabel = \"True: {0}, Pred: {1}\".format(actual_labels[i], label_predictor[i])\n",
    "        ax.set_xlabel(xlabel)\n",
    "        ax.set_xticks([])\n",
    "        ax.set_yticks([])\n",
    "    plt.show()\n",
    "\n",
    "# Function for plotting examples of input_images from the test-set that have been mis-classified.\n",
    "def plot_example_errors(data, predictions, gradings):\n",
    "    incorrect = (gradings == False)\n",
    "    images = data.images[incorrect] #images = [ data.images[i] for i in range(data.count) where incorrect[i]]\n",
    "    predictions = predictions[incorrect]\n",
    "    actuals = data.labels[incorrect]\n",
    "    plot_images(images=images[0:9], actual_labels=actuals[0:9], predictions=predictions[0:9])\n",
    "\n",
    "# Helper-function for plotting an image.\n",
    "def plot_image(image):\n",
    "    plt.imshow(image.reshape(img_shape), interpolation='nearest', cmap='binary')\n",
    "    plt.show()\n"
   ]
  },
  {
   "cell_type": "code",
   "execution_count": 5,
   "metadata": {
    "collapsed": false
   },
   "outputs": [
    {
     "name": "stdout",
     "output_type": "stream",
     "text": [
      "Test and trainign data loaded\n"
     ]
    }
   ],
   "source": [
    "# Load test and training data from input files\n",
    "import pickle\n",
    "training_file = 'data/train.p'\n",
    "testing_file = 'data/test.p'\n",
    "more_data_file = 'data/more_data.p'\n",
    "checkpoint_file = 'checkpoints/checkpoint.chk'\n",
    "abort_file = 'abort'\n",
    "\n",
    "FEATURES = 'features'\n",
    "LABELS = 'labels'\n",
    "SIZES = 'sizes'\n",
    "COORDS = 'coords'\n",
    "with open(training_file, mode='rb') as f:\n",
    "    train = pickle.load(f)\n",
    "with open(testing_file, mode='rb') as f:\n",
    "    test = pickle.load(f)\n",
    "\n",
    "x_train, y_train, sizes_train, coords_train = train[FEATURES], train[LABELS], train[SIZES], train[COORDS]\n",
    "x_test, y_test, sizes_test, coords_test = test[FEATURES], test[LABELS], test[SIZES], test[COORDS]\n",
    "\n",
    "print (\"Test and trainign data loaded\")"
   ]
  },
  {
   "cell_type": "code",
   "execution_count": 6,
   "metadata": {
    "collapsed": false
   },
   "outputs": [
    {
     "name": "stdout",
     "output_type": "stream",
     "text": [
      "Processing augmentation...\n",
      "\tData already exists.\n",
      "\tReading in augmented data...\n",
      "\t\tAugmented data count:\t57541\n"
     ]
    }
   ],
   "source": [
    "# Read in initial data for pre-processing\n",
    "img_size = len(x_train[0])\n",
    "num_channels = len(x_train[0][0][0])\n",
    "img_shape = x_train[0].shape #(img_size, img_size, num_channels)\n",
    "\n",
    "# Augmenting data\n",
    "# NOTE: Please delete the file named \"more.p\" from the current directory in order for the raw data generation\n",
    "#       to generate new data and print information about the training set distribution\n",
    "augment_data = True\n",
    "if augment_data:\n",
    "    print (\"Processing augmentation...\")\n",
    "    if not os.path.isfile(more_data_file):\n",
    "        print (\"\\tGenerating fresh data...\")\n",
    "        more_images, more_labels = equalize_distribution(x_train, y_train, coords_train, sizes_train)\n",
    "        if (len(more_images)>0):\n",
    "            print('\\t\\tSaving data to pickle file...')\n",
    "            try:\n",
    "                with open(more_data_file, 'wb') as pfile:\n",
    "                    pickle.dump(\n",
    "                        {\n",
    "                            FEATURES: more_images,\n",
    "                            LABELS: more_labels,\n",
    "                        },\n",
    "                        pfile, pickle.HIGHEST_PROTOCOL)\n",
    "                print ('\\t\\tGenerated and saved ({} input_images) for subsequent use.'.format(len(more_images)))\n",
    "            except Exception as e:\n",
    "                print('\\t\\tUnable to save data to', more_data_file, ':', e)\n",
    "                raise\n",
    "    else:\n",
    "        print (\"\\tData already exists.\")\n",
    "    \n",
    "    with open(more_data_file, 'rb') as f:\n",
    "        print (\"\\tReading in augmented data...\")\n",
    "        more = pickle.load(f)\n",
    "        x_more, y_more = more[FEATURES], more[LABELS]\n",
    "        print (\"\\t\\tAugmented data count:\\t{}\".format(len(x_more)))\n",
    "        #plot_images(x_more[0:9], actual_labels=y_more[0:9])\n",
    "        x_train = np.concatenate((x_train, x_more))\n",
    "        y_train = np.concatenate((y_train, y_more))\n",
    "\n",
    "# Free up some memory\n",
    "del sizes_train, sizes_test, coords_train, coords_test"
   ]
  },
  {
   "cell_type": "code",
   "execution_count": 7,
   "metadata": {
    "collapsed": false
   },
   "outputs": [
    {
     "data": {
      "image/png": "[encoded data removed]",
      "text/plain": [
       "<matplotlib.figure.Figure at 0x114c25b00>"
      ]
     },
     "metadata": {},
     "output_type": "display_data"
    }
   ],
   "source": [
    "# Visualize the augmented data\n",
    "ids = [0, 7000, 15000, 17000, 20000, 25000, 27000, 30000, 40000]\n",
    "x_tmp = [x_more[i] for i in ids]\n",
    "y_tmp = [y_more[i] for i in ids]\n",
    "plot_images(x_tmp, y_tmp, None)"
   ]
  },
  {
   "cell_type": "code",
   "execution_count": 8,
   "metadata": {
    "collapsed": false
   },
   "outputs": [
    {
     "name": "stdout",
     "output_type": "stream",
     "text": [
      "Normalization succeeded\n"
     ]
    }
   ],
   "source": [
    "# Additional pre-processing.\n",
    "\n",
    "# Normalize the input_images (and save originals)\n",
    "x_train_norm = np.zeros_like(x_train, dtype=float32)\n",
    "x_test_norm = np.zeros_like(x_test, dtype=float32)\n",
    "for i in range(0, len(x_train)):\n",
    "    cv2.normalize(x_train[i], x_train_norm[i], 0.0, 1.0, cv2.NORM_MINMAX, dtype=cv2.CV_32F)\n",
    "for i in range(0, len(x_test)):\n",
    "    cv2.normalize(x_test[i], x_test_norm[i], 0.0, 1.0, cv2.NORM_MINMAX, dtype=cv2.CV_32F)\n",
    "\n",
    "# Some more data analysis\n",
    "num_classes = len(np.unique(y_train))\n",
    "y_train_hot = dense_to_one_hot(y_train, num_classes) # One-hot encode all the labels\n",
    "y_test_hot = dense_to_one_hot(y_test, num_classes) # One-hot encode all the labels\n",
    "\n",
    "print (\"Normalization succeeded\")"
   ]
  },
  {
   "cell_type": "code",
   "execution_count": 9,
   "metadata": {
    "collapsed": false
   },
   "outputs": [
    {
     "name": "stdout",
     "output_type": "stream",
     "text": [
      "Size of:\n",
      "- Training-set:\t\t96750\n",
      "- Test-set:\t\t12630\n",
      "- Shape:\t\t(32, 32, 3)\n",
      "- Num channels:\t3\n",
      "- Num classes:\t43\n"
     ]
    }
   ],
   "source": [
    "# Define container for all data related to training/testing, meta data, and parameters:\n",
    "Data = namedtuple ('Data', ['images', 'pre_images', 'labels', 'hot_labels', 'count', 'batch_size'])\n",
    "Meta = namedtuple ('Meta', ['image_shape', 'num_channels', 'num_classes'])\n",
    "Params = namedtuple ('Params', ['num_train_epochs', \\\n",
    "                                'learning_rate', \\\n",
    "                                'dropout', \\\n",
    "                                'validation_set_size', \\\n",
    "                                'validation_frequency', \\\n",
    "                                'training_accuracy_threshold', \\\n",
    "                                'do_checkpointing'])\n",
    "\n",
    "\n",
    "#\n",
    "#  These parameters can be tweaked to control the network behavior\n",
    "#\n",
    "#\n",
    "\n",
    "# Create the data objects that will be used going forward\n",
    "train = Data(x_train_norm, x_train, y_train, y_train_hot, len(x_train), batch_size=128) # Use the normalized input_images (x_train_norm)\n",
    "test = Data(x_test_norm, x_test, y_test, y_test_hot, len(x_test), batch_size=256) # Use the normalized input_images (x_test_norm)\n",
    "meta = Meta(x_test_norm[0].shape, len(x_test[0][0][0]), num_classes)\n",
    "params = Params (\\\n",
    "                 num_train_epochs=1,\n",
    "                 learning_rate=1e-3,\n",
    "                 dropout=0.5, # this is actually keep_prob\n",
    "                 validation_set_size=int(0.10 * train.count),\n",
    "                 validation_frequency=100, # Validation is performed every 'n' batches\n",
    "                 training_accuracy_threshold=0.91, \\\n",
    "                 do_checkpointing=False) # Turn this to true if we want checkpointing after every training epoch\n",
    "\n",
    "print(\"Size of:\")\n",
    "print(\"- Training-set:\\t\\t{}\".format(train.count))\n",
    "print(\"- Test-set:\\t\\t{}\".format(test.count))\n",
    "print(\"- Shape:\\t\\t{}\".format(meta.image_shape))\n",
    "print(\"- Num channels:\\t{}\".format(meta.num_channels))\n",
    "print(\"- Num classes:\\t{}\".format(meta.num_classes))\n"
   ]
  },
  {
   "cell_type": "code",
   "execution_count": 10,
   "metadata": {
    "collapsed": true
   },
   "outputs": [],
   "source": [
    "# Utility methods for generating network layers\n",
    "\n",
    "def new_weights(shape):\n",
    "    return tf.Variable(tf.truncated_normal(shape, stddev=0.05))\n",
    "\n",
    "def new_biases(length):\n",
    "    return tf.Variable(tf.constant(0.05, shape=[length]))\n",
    "\n",
    "def new_conv_layer(input,              # The previous layer.\n",
    "                   num_input_channels, # Num. channels in prev. layer.\n",
    "                   filter_size,        # Width and height of each filter.\n",
    "                   num_filters,        # Number of filters.\n",
    "                   use_pooling=False):  # Use 2x2 max-pooling.\n",
    "    shape = [filter_size, filter_size, num_input_channels, num_filters]\n",
    "    weights = new_weights(shape=shape)\n",
    "    biases = new_biases(length=num_filters)\n",
    "    layer = tf.nn.conv2d(input=input, filter=weights, strides=[1, 1, 1, 1], padding='SAME')\n",
    "    layer += biases\n",
    "    if use_pooling:\n",
    "        layer = tf.nn.max_pool(value=layer, ksize=[1, 3, 3, 1], strides=[1, 3, 3, 1], padding='SAME')\n",
    "    layer = tf.nn.relu(layer)\n",
    "    return layer, weights\n",
    "\n",
    "# A convolutional layer produces an output tensor with 4 dimensions. We will add fully-connected layers after the convolution layers, so we need to reduce the 4-dim tensor to 2-dim which can be used as input to the fully-connected layer.\n",
    "def flatten_layer(layer):\n",
    "    layer_shape = layer.get_shape()\n",
    "    num_features = layer_shape[1:4].num_elements()\n",
    "    layer_flat = tf.reshape(layer, [-1, num_features])\n",
    "    return layer_flat, num_features\n",
    "\n",
    "def new_fc_layer(input,          # The previous layer.\n",
    "                 num_inputs,     # Num. inputs from prev. layer.\n",
    "                 num_outputs,    # Num. outputs.\n",
    "                 use_relu=True):  # Use Rectified Linear Unit (ReLU)?\n",
    "    weights = new_weights(shape=[num_inputs, num_outputs])\n",
    "    biases = new_biases(length=num_outputs)\n",
    "    layer = tf.matmul(input, weights) + biases\n",
    "    if use_relu:\n",
    "        layer = tf.nn.relu(layer)\n",
    "    return layer\n"
   ]
  },
  {
   "cell_type": "code",
   "execution_count": 11,
   "metadata": {
    "collapsed": true
   },
   "outputs": [],
   "source": [
    "# More utility methods\n",
    "\n",
    "# Generates a set of batch ranges, to simplify the process of running batch training/testing\n",
    "def generate_batches(data):\n",
    "    batches = []\n",
    "    num_batches = int(np.ceil(data.count / data.batch_size))\n",
    "    for batch in range(num_batches):\n",
    "        i = batch * data.batch_size\n",
    "        j = i + min(data.batch_size, data.count - i)\n",
    "        batches.append((i, j))\n",
    "    return batches\n",
    "\n",
    "# Utility method to shuffle the training and testing data:\n",
    "def shuffle (data):\n",
    "    seq = np.arange(0, len(data.images))\n",
    "    np.random.shuffle(seq)\n",
    "    images = np.array([ data.images[i] for i in seq])\n",
    "    pre_images = np.array([ data.pre_images[i] for i in seq])\n",
    "    labels = np.array([ data.labels[i] for i in seq])\n",
    "    hot_labels = np.array([ data.hot_labels[i] for i in seq])\n",
    "    return Data(images=images, pre_images=pre_images, labels=labels, hot_labels=hot_labels, count=len(images), batch_size=data.batch_size)\n",
    "\n",
    "# Method to check the accuracy of a given neural network, given some test data, meta data and hyper parameters\n",
    "def check_accuracy(label_predictor, data, meta, params):\n",
    "    tmp = data\n",
    "    predictions = np.zeros(shape=data.count, dtype=np.int)\n",
    "    batches = generate_batches(data)\n",
    "    for batch in range(len(batches)):\n",
    "        (i, j) = batches[batch]\n",
    "        (test_images, hot_labels) = (tmp.images[i:j], tmp.hot_labels[i:j])\n",
    "        feed_dict_test = {images: test_images, actual_hot_labels: hot_labels, keep_prob: params.dropout}\n",
    "        predictions[i:j] = session.run(label_predictor, feed_dict=feed_dict_test)\n",
    "\n",
    "    gradings = (data.labels == predictions)\n",
    "    correct_sum = gradings.sum()\n",
    "    acc = float(correct_sum) / data.count    \n",
    "    return correct_sum, acc, label_predictor, gradings"
   ]
  },
  {
   "cell_type": "code",
   "execution_count": 12,
   "metadata": {
    "collapsed": true
   },
   "outputs": [],
   "source": [
    "# Method to train the network over one epoch of data\n",
    "def train_epoch(optimizer, predictor, data, meta, params):\n",
    "    epoch_start_time = time.time()\n",
    "\n",
    "    # Prepare split (it is assumed that the data is already shuffled)\n",
    "    num_train_samples = data.count - params.validation_set_size # Keep the last few for validation\n",
    "    print (\"\\t\\tSplit:\\tTraining = {} samples\\t /\\t Validation = {} samples ({:.1%}) split\".format(num_train_samples, \\\n",
    "                                                                                               num_train_samples/data.count,\\\n",
    "                                                                                               params.validation_set_size,\\\n",
    "                                                                                               params.validation_set_size/data.count))\n",
    "    train_data = Data(\\\n",
    "                      images=data.images[0:num_train_samples],\n",
    "                      pre_images=data.pre_images[0:num_train_samples],\n",
    "                      labels=data.labels[0:num_train_samples],\n",
    "                      hot_labels=data.hot_labels[0:num_train_samples],\n",
    "                      count=num_train_samples,\n",
    "                      batch_size=data.batch_size)\n",
    "    validation_data = Data(\\\n",
    "                           images=data.images[num_train_samples:data.count],\n",
    "                           pre_images=data.pre_images[num_train_samples:data.count],\n",
    "                           labels=data.labels[num_train_samples:data.count],\n",
    "                           hot_labels=data.hot_labels[num_train_samples:data.count],\n",
    "                           count=params.validation_set_size,\n",
    "                           batch_size=data.batch_size)\n",
    "    \n",
    "    train_batches = generate_batches(train_data)\n",
    "    for train_batch in range(len(train_batches)):\n",
    "        (i, j) = train_batches[train_batch]\n",
    "        (train_images, train_hot_labels) = (train_data.images[i:j], train_data.hot_labels[i:j])\n",
    "        feed_dict_train = {images: train_images, actual_hot_labels: train_hot_labels, keep_prob: params.dropout}\n",
    "        session.run(optimizer, feed_dict=feed_dict_train)\n",
    "\n",
    "        # Every 100 batches, we run the validation set:\n",
    "        if train_batch % params.validation_frequency == 0:\n",
    "            correct, accuracy, predictions, gradings = check_accuracy(predictor, validation_data, meta, params)\n",
    "            print(\"\\t\\tTraining batch: {:>6}, Validation-Accuracy: {:.1%} ({} / {})\".format(train_batch+1, accuracy, correct, validation_data.count))\n",
    "            #plot_example_errors(validation_data, predictions, gradings)\n",
    " \n",
    "    epoch_end_time = time.time()\n",
    "    epoch_time_dif = epoch_end_time - epoch_start_time\n",
    "    print(\"\\t\\tEpoch time usage: \" + str(timedelta(seconds=int(round(epoch_time_dif)))))\n"
   ]
  },
  {
   "cell_type": "markdown",
   "metadata": {},
   "source": [
    "----\n",
    "\n",
    "## Step 2: Design and Test a Model Architecture\n",
    "\n",
    "Design and implement a deep learning model that learns to recognize traffic signs. Train and test your model on the [German Traffic Sign Dataset](http://benchmark.ini.rub.de/?section=gtsrb&subsection=dataset).\n",
    "\n",
    "There are various aspects to consider when thinking about this problem:\n",
    "\n",
    "- Your model can be derived from a deep feedforward net or a deep convolutional network.\n",
    "- Play around preprocessing techniques (normalization, rgb to grayscale, etc)\n",
    "- Number of examples per label (some have more than others).\n",
    "- Generate fake data.\n",
    "\n",
    "Here is an example of a [published baseline model on this problem](http://yann.lecun.com/exdb/publis/pdf/sermanet-ijcnn-11.pdf). It's not required to be familiar with the approach used in the paper but, it's good practice to try to read papers like these."
   ]
  },
  {
   "cell_type": "markdown",
   "metadata": {},
   "source": [
    "### Implementation\n",
    "\n",
    "Use the code cell (or multiple code cells, if necessary) to implement the first step of your project. Once you have completed your implementation and are satisfied with the results, be sure to thoroughly answer the questions that follow."
   ]
  },
  {
   "cell_type": "code",
   "execution_count": null,
   "metadata": {
    "collapsed": false
   },
   "outputs": [],
   "source": [
    "#################################\n",
    "#          PIPELINE             #\n",
    "#################################\n",
    "\n",
    "# Convolutional layers:\n",
    "filter_size1 = 5          # Convolution filters are 5 input_images 5 pixels.\n",
    "num_filters1 = 32         # There are 16 of these filters.\n",
    "\n",
    "filter_size2 = 5          # Convolution filters are 5 input_images 5 pixels.\n",
    "num_filters2 = 64         # There are 36 of these filters.\n",
    "\n",
    "filter_size3 = 5          # Convolution filters are 5 input_images 5 pixels.\n",
    "num_filters3 = 128         # There are 36 of these filters.\n",
    "\n",
    "# Fully-connected layer.\n",
    "fc_size = 1024             # Number of neurons in fully-connected layer.\n",
    "\n",
    "# Plot some training samples\n",
    "#plot_images(images=train.pre_images[0:9], actual_labels=train.labels[0:9])\n",
    "\n",
    "images = tf.placeholder(tf.float32, shape=[None, img_size, img_size, num_channels], name='images')\n",
    "actual_hot_labels = tf.placeholder(tf.float32, shape=[None, num_classes], name='actual_hot_labels')\n",
    "actual_labels = tf.argmax(actual_hot_labels, dimension=1)\n",
    "keep_prob = tf.placeholder(tf.float32) #dropout (keep probability)\n",
    "\n",
    "# Network architecture/layers\n",
    "layer, _ = None, None\n",
    "layer, _ = layer_conv1, weights_conv1 = new_conv_layer(input=images, num_input_channels=num_channels, filter_size=filter_size1, num_filters=num_filters1, use_pooling=True)\n",
    "#layer = layer_dropout1 = tf.nn.dropout(layer, keep_prob)\n",
    "\n",
    "layer, _ = layer_conv2, weights_conv2 = new_conv_layer(input=layer, num_input_channels=num_filters1, filter_size=filter_size2, num_filters=num_filters2, use_pooling=True)\n",
    "#layer = layer_dropout2 = tf.nn.dropout(layer, keep_prob)\n",
    "\n",
    "layer, _ = layer_conv3, weights_conv3 = new_conv_layer(input=layer, num_input_channels=num_filters2, filter_size=filter_size3, num_filters=num_filters3, use_pooling=True)\n",
    "#layer = layer_dropout3 = tf.nn.dropout(layer, keep_prob)\n",
    "\n",
    "layer, _ = layer_flat, num_features = flatten_layer(layer)\n",
    "\n",
    "layer = layer_fc1 = new_fc_layer(input=layer, num_inputs=num_features, num_outputs=fc_size, use_relu=True)\n",
    "layer = layer_dropout4 = tf.nn.dropout(layer, keep_prob)\n",
    "\n",
    "layer = logits = layer_fc2 = new_fc_layer(input=layer, num_inputs=fc_size, num_outputs=num_classes, use_relu=False)\n",
    "#layer = logits = layer_dropout5 = tf.nn.dropout(layer, keep_prob)\n",
    "\n",
    "hot_label_predictor = tf.nn.softmax(logits)\n",
    "label_predictor = tf.argmax(hot_label_predictor, dimension=1)\n",
    "cross_entropy = tf.nn.softmax_cross_entropy_with_logits(logits=logits, labels=actual_hot_labels)\n",
    "cost = tf.reduce_mean(cross_entropy)\n",
    "optimizer = tf.train.AdamOptimizer(learning_rate=params.learning_rate).minimize(cost)\n",
    "#correct_prediction = tf.equal(label_predictor, actual_labels)\n",
    "#accuracy = tf.reduce_mean(tf.cast(correct_prediction, tf.float32))"
   ]
  },
  {
   "cell_type": "code",
   "execution_count": null,
   "metadata": {
    "collapsed": false
   },
   "outputs": [
    {
     "name": "stdout",
     "output_type": "stream",
     "text": [
      "Intializing session:\n",
      "\tLoading session from pre-existing checkpoint.\n",
      "\tTraining epoch: 1\n",
      "\t\tSplit:\tTraining = 87075 samples\t /\t Validation = 0.9 samples (967500.0%) split\n",
      "\t\tTraining batch:      1, Validation-Accuracy: 97.5% (9436 / 9675)\n",
      "\t\tTraining batch:    101, Validation-Accuracy: 97.1% (9390 / 9675)\n",
      "\t\tTraining batch:    201, Validation-Accuracy: 97.5% (9431 / 9675)\n",
      "\t\tTraining batch:    301, Validation-Accuracy: 98.1% (9488 / 9675)\n"
     ]
    }
   ],
   "source": [
    "#\n",
    "# Finally, we're down to the point when the network is trained\n",
    "# and the test set is run against it periodically to determine accuracy.\n",
    "# The parameters used here are to be defined earlier on in this notebook.\n",
    "#\n",
    "print (\"Intializing session:\")\n",
    "saver = tf.train.Saver()\n",
    "session = tf.Session()\n",
    "if (os.path.isfile(checkpoint_file)):\n",
    "    print (\"\\tLoading session from pre-existing checkpoint.\")\n",
    "    saver.restore(session, checkpoint_file)\n",
    "else:\n",
    "    print (\"\\tUsing default session initialization. (No checkpoint available to load from)\")\n",
    "    session.run(tf.initialize_all_variables())\n",
    "\n",
    "# Now start the training epochs\n",
    "# If a checkpoint has been saved already (checkpoints/checkpoint.chk) this will load\n",
    "# and continue training where it last was.\n",
    "# If the params.num_train_epochs is set to None, it will train indefinitely, until \n",
    "# params.training_accuracy_threshold is attained.\n",
    "# If params.do_checkpointing is set to True, the checkpoint will keep getting updated\n",
    "# with the latest weights/biases etc. For the time being, it is said to False, to\n",
    "# retain the original trained settings.\n",
    "unlimited_epochs = params.num_train_epochs == None\n",
    "if (unlimited_epochs or params.num_train_epochs > 0):\n",
    "    keep_going = True\n",
    "    epoch = 0\n",
    "    while keep_going:\n",
    "        if os.path.isfile(abort_file):\n",
    "            print (\"\\tAbort file found. Aborting training. [To continue, re-run training.]\")\n",
    "            os.remove(abort_file)\n",
    "            break\n",
    "    \n",
    "        print (\"\\tTraining epoch: {}\".format(epoch+1))\n",
    "        train = shuffle(train)\n",
    "        train_epoch(optimizer, label_predictor, train, meta, params)\n",
    "    \n",
    "        if (params.do_checkpointing):\n",
    "            print (\"\\t\\tSaving checkpoint.\")\n",
    "            saver.save(session, checkpoint_file)\n",
    "        else:\n",
    "            print (\"\\t\\tCheckpointing disabled.\")\n",
    "            \n",
    "        test = shuffle(test)\n",
    "        correct, accuracy, predictions, gradings = check_accuracy(label_predictor, test, meta, params)\n",
    "        print(\"\\t\\t\\tAccuracy on Test-Set: {0:.1%} ({1} / {2})\".format(accuracy, correct, test.count))\n",
    "            \n",
    "        if accuracy >= params.training_accuracy_threshold:\n",
    "            print(\"\\t\\t\\tAchieved threshold accuracy! Ending training.\")\n",
    "            break\n",
    "        epoch += 1\n",
    "        keep_going = unlimited_epochs or epoch < params.num_train_epochs\n",
    "\n",
    "# This is where the test set is run against the network\n",
    "test = shuffle(test)\n",
    "correct, accuracy, predictions, gradings = check_accuracy(label_predictor, test, meta, params)\n",
    "print(\"Final accuracy on Test-Set: {0:.1%} ({1} / {2})\".format(accuracy, correct, test.count))\n",
    "print (\"\\nDONE!\")"
   ]
  },
  {
   "cell_type": "markdown",
   "metadata": {},
   "source": [
    "### Question 1 \n",
    "\n",
    "_Describe the techniques used to preprocess the data._"
   ]
  },
  {
   "cell_type": "markdown",
   "metadata": {},
   "source": [
    "**Answer:**"
   ]
  },
  {
   "cell_type": "code",
   "execution_count": null,
   "metadata": {
    "collapsed": true
   },
   "outputs": [],
   "source": [
    "### Generate data additional (if you want to!)\n",
    "### and split the data into training/validation/testing sets here.\n",
    "### Feel free to use as many code cells as needed."
   ]
  },
  {
   "cell_type": "markdown",
   "metadata": {},
   "source": [
    "### Question 2\n",
    "\n",
    "_Describe how you set up the training, validation and testing data for your model. If you generated additional data, why?_"
   ]
  },
  {
   "cell_type": "markdown",
   "metadata": {},
   "source": [
    "**Answer:**"
   ]
  },
  {
   "cell_type": "code",
   "execution_count": null,
   "metadata": {
    "collapsed": true
   },
   "outputs": [],
   "source": [
    "### Define your architecture here.\n",
    "### Feel free to use as many code cells as needed."
   ]
  },
  {
   "cell_type": "markdown",
   "metadata": {},
   "source": [
    "### Question 3\n",
    "\n",
    "_What does your final architecture look like? (Type of model, layers, sizes, connectivity, etc.)  For reference on how to build a deep neural network using TensorFlow, see [Deep Neural Network in TensorFlow\n",
    "](https://classroom.udacity.com/nanodegrees/nd013/parts/fbf77062-5703-404e-b60c-95b78b2f3f9e/modules/6df7ae49-c61c-4bb2-a23e-6527e69209ec/lessons/b516a270-8600-4f93-a0a3-20dfeabe5da6/concepts/83a3a2a2-a9bd-4b7b-95b0-eb924ab14432) from the classroom._\n"
   ]
  },
  {
   "cell_type": "markdown",
   "metadata": {},
   "source": [
    "**Answer:**"
   ]
  },
  {
   "cell_type": "code",
   "execution_count": null,
   "metadata": {
    "collapsed": true
   },
   "outputs": [],
   "source": [
    "### Train your model here.\n",
    "### Feel free to use as many code cells as needed."
   ]
  },
  {
   "cell_type": "markdown",
   "metadata": {},
   "source": [
    "### Question 4\n",
    "\n",
    "_How did you train your model? (Type of optimizer, batch size, epochs, hyperparameters, etc.)_\n"
   ]
  },
  {
   "cell_type": "markdown",
   "metadata": {},
   "source": [
    "**Answer:**"
   ]
  },
  {
   "cell_type": "markdown",
   "metadata": {},
   "source": [
    "### Question 5\n",
    "\n",
    "\n",
    "_What approach did you take in coming up with a solution to this problem?_"
   ]
  },
  {
   "cell_type": "markdown",
   "metadata": {},
   "source": [
    "**Answer:**"
   ]
  },
  {
   "cell_type": "markdown",
   "metadata": {},
   "source": [
    "---\n",
    "\n",
    "## Step 3: Test a Model on New Images\n",
    "\n",
    "Take several pictures of traffic signs that you find on the web or around you (at least five), and run them through your classifier on your computer to produce example results. The classifier might not recognize some local signs but it could prove interesting nonetheless.\n",
    "\n",
    "You may find `signnames.csv` useful as it contains mappings from the class id (integer) to the actual sign name."
   ]
  },
  {
   "cell_type": "markdown",
   "metadata": {},
   "source": [
    "### Implementation\n",
    "\n",
    "Use the code cell (or multiple code cells, if necessary) to implement the first step of your project. Once you have completed your implementation and are satisfied with the results, be sure to thoroughly answer the questions that follow."
   ]
  },
  {
   "cell_type": "code",
   "execution_count": null,
   "metadata": {
    "collapsed": true
   },
   "outputs": [],
   "source": [
    "### Load the images and plot them here.\n",
    "### Feel free to use as many code cells as needed."
   ]
  },
  {
   "cell_type": "markdown",
   "metadata": {},
   "source": [
    "### Question 6\n",
    "\n",
    "_Choose five candidate images of traffic signs and provide them in the report. Are there any particular qualities of the image(s) that might make classification difficult? It would be helpful to plot the images in the notebook._\n",
    "\n"
   ]
  },
  {
   "cell_type": "markdown",
   "metadata": {},
   "source": [
    "**Answer:**"
   ]
  },
  {
   "cell_type": "code",
   "execution_count": null,
   "metadata": {
    "collapsed": true
   },
   "outputs": [],
   "source": [
    "### Run the predictions here.\n",
    "### Feel free to use as many code cells as needed."
   ]
  },
  {
   "cell_type": "markdown",
   "metadata": {},
   "source": [
    "### Question 7\n",
    "\n",
    "_Is your model able to perform equally well on captured pictures or a live camera stream when compared to testing on the dataset?_\n"
   ]
  },
  {
   "cell_type": "markdown",
   "metadata": {},
   "source": [
    "**Answer:**"
   ]
  },
  {
   "cell_type": "code",
   "execution_count": null,
   "metadata": {
    "collapsed": true
   },
   "outputs": [],
   "source": [
    "### Visualize the softmax probabilities here.\n",
    "### Feel free to use as many code cells as needed."
   ]
  },
  {
   "cell_type": "markdown",
   "metadata": {},
   "source": [
    "### Question 8\n",
    "\n",
    "*Use the model's softmax probabilities to visualize the **certainty** of its predictions, [`tf.nn.top_k`](https://www.tensorflow.org/versions/r0.11/api_docs/python/nn.html#top_k) could prove helpful here. Which predictions is the model certain of? Uncertain? If the model was incorrect in its initial prediction, does the correct prediction appear in the top k? (k should be 5 at most)*\n"
   ]
  },
  {
   "cell_type": "markdown",
   "metadata": {},
   "source": [
    "**Answer:**"
   ]
  },
  {
   "cell_type": "markdown",
   "metadata": {},
   "source": [
    "### Question 9\n",
    "_If necessary, provide documentation for how an interface was built for your model to load and classify newly-acquired images._\n"
   ]
  },
  {
   "cell_type": "markdown",
   "metadata": {},
   "source": [
    "**Answer:**"
   ]
  },
  {
   "cell_type": "markdown",
   "metadata": {},
   "source": [
    "> **Note**: Once you have completed all of the code implementations and successfully answered each question above, you may finalize your work by exporting the iPython Notebook as an HTML document. You can do this by using the menu above and navigating to  \\n\",\n",
    "    \"**File -> Download as -> HTML (.html)**. Include the finished document along with this notebook as your submission."
   ]
  },
  {
   "cell_type": "code",
   "execution_count": null,
   "metadata": {
    "collapsed": true
   },
   "outputs": [],
   "source": []
  }
 ],
 "metadata": {
  "anaconda-cloud": {},
  "kernelspec": {
   "display_name": "Python [traffic-signs]",
   "language": "python",
   "name": "Python [traffic-signs]"
  },
  "language_info": {
   "codemirror_mode": {
    "name": "ipython",
    "version": 3
   },
   "file_extension": ".py",
   "mimetype": "text/x-python",
   "name": "python",
   "nbconvert_exporter": "python",
   "pygments_lexer": "ipython3",
   "version": "3.5.2"
  }
 },
 "nbformat": 4,
 "nbformat_minor": 1
}
